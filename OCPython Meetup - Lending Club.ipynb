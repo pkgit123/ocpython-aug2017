{
 "cells": [
  {
   "cell_type": "markdown",
   "metadata": {},
   "source": [
    "# Peter Kim, OCPython Meetup - August 1, 2017\n",
    "PeopleSpace, Irvine, CA\n",
    "\n",
    "## Text Classification with Scikit-Learn\n",
    "Lending Club Dataset\n",
    ">Original Source: https://www.lendingclub.com/info/download-data.action\n",
    "><br>Kaggle Discussion: https://www.kaggle.com/wendykan/lending-club-loan-data\n",
    "\n",
    "## Inspiration Reference:\n",
    "When Words Sweat: Identifying Signals for Loan Default in the Text of Loan Applications\n",
    ">Netzer, Oded and Lemaire, Alain and Herzenstein, Michal, When Words Sweat: Identifying Signals for Loan Default in the Text of Loan Applications (November 6, 2016). Columbia Business School Research Paper No. 16-83. Available at SSRN: https://ssrn.com/abstract=2865327.  \n",
    "\n",
    "## Background References on Text Classification and Python/Scikit-Learn.\n",
    ">PyCon 2016 Tutorial from Data School, “Machine Learning with Text in scikit-learn (PyCon 2016),” by Kevin Markham on May 28, 2016. \n",
    "* YouTube Lecture Available at: https://www.youtube.com/watch?v=ZiKMIuYidY0  \n",
    "* Github Available at: https://github.com/justmarkham/pycon-2016-tutorial\n",
    ">\n",
    "><br> scikit-learn, “Working with Text Data”.  Available at: http://scikit-learn.org/stable/tutorial/text_analytics/working_with_text_data.html\n",
    "<br>\n",
    "><br> Kaggle tutorial, “Bag of Words Meets Bags of Popcorn.”  December 9 2014 – June 30, 2015.  Available at: https://www.kaggle.com/c/word2vec-nlp-tutorial/details/part-1-for-beginners-bag-of-words\n",
    "<br>\n",
    "><br> scikit-learn, “Feature Extraction (Customizing the Vectorizer Class)”.  Available at: http://scikit-learn.org/stable/modules/feature_extraction.html\n",
    ">\n",
    "><br> Andreas Müller and Sarah Guido, \"Introduction to Machine Learning with Python,\" O'Reilly Media, October 2016.  Available at: http://shop.oreilly.com/product/0636920030515.do\n",
    ">\n",
    "><br> Sebastian Raschka, \"Python Machine Learning,\" Packt Publishing; 1 edition (September 23, 2015).  Available at: https://www.packtpub.com/big-data-and-business-intelligence/python-machine-learning\n",
    "\n",
    "## Note: This Jupyter notebook uses Python 3 (other one uses Python 2)."
   ]
  },
  {
   "cell_type": "code",
   "execution_count": 2,
   "metadata": {
    "collapsed": true
   },
   "outputs": [],
   "source": [
    "# Python libraries\n",
    "import pandas as pd\n",
    "import numpy as np\n",
    "\n",
    "from sklearn.feature_extraction.text import CountVectorizer, TfidfTransformer, HashingVectorizer\n",
    "from sklearn.model_selection import train_test_split, GridSearchCV\n",
    "from sklearn.ensemble import RandomForestClassifier\n",
    "from sklearn.naive_bayes import MultinomialNB\n",
    "from sklearn.linear_model import SGDClassifier, LogisticRegression\n",
    "from sklearn import metrics\n",
    "from sklearn.pipeline import make_pipeline\n",
    "from sklearn.decomposition import TruncatedSVD\n",
    "from sklearn.preprocessing import Normalizer"
   ]
  },
  {
   "cell_type": "code",
   "execution_count": 3,
   "metadata": {
    "collapsed": false
   },
   "outputs": [
    {
     "name": "stdout",
     "output_type": "stream",
     "text": [
      "[nltk_data] Downloading package stopwords to\n",
      "[nltk_data]     C:\\Users\\LL\\AppData\\Roaming\\nltk_data...\n",
      "[nltk_data]   Package stopwords is already up-to-date!\n"
     ]
    }
   ],
   "source": [
    "import re\n",
    "import nltk\n",
    "nltk.download('stopwords')\n",
    "from nltk.corpus import stopwords\n",
    "from nltk import PorterStemmer\n",
    "from nltk import word_tokenize          \n",
    "from nltk.stem import WordNetLemmatizer "
   ]
  },
  {
   "cell_type": "code",
   "execution_count": 4,
   "metadata": {
    "collapsed": true
   },
   "outputs": [],
   "source": [
    "%matplotlib inline\n",
    "import matplotlib.pyplot as plt\n",
    "\n",
    "import matplotlib\n",
    "matplotlib.style.use('ggplot')"
   ]
  },
  {
   "cell_type": "code",
   "execution_count": 5,
   "metadata": {
    "collapsed": false
   },
   "outputs": [
    {
     "data": {
      "text/plain": [
       "(39786, 120)"
      ]
     },
     "execution_count": 5,
     "metadata": {},
     "output_type": "execute_result"
    }
   ],
   "source": [
    "# Create Pandas Dataframe with Lending Club data from 2007-2011.\n",
    "# The \"2007-2011.csv\" file has been cleaned-up from original \"LoanStats3a.csv\".  \n",
    "df_lendingclub = pd.read_csv(\"2007-2011.csv\")\n",
    "\n",
    "# How many rows and columns?\n",
    "df_lendingclub.shape    "
   ]
  },
  {
   "cell_type": "code",
   "execution_count": 6,
   "metadata": {
    "collapsed": false
   },
   "outputs": [
    {
     "data": {
      "text/html": [
       "<div>\n",
       "<style>\n",
       "    .dataframe thead tr:only-child th {\n",
       "        text-align: right;\n",
       "    }\n",
       "\n",
       "    .dataframe thead th {\n",
       "        text-align: left;\n",
       "    }\n",
       "\n",
       "    .dataframe tbody tr th {\n",
       "        vertical-align: top;\n",
       "    }\n",
       "</style>\n",
       "<table border=\"1\" class=\"dataframe\">\n",
       "  <thead>\n",
       "    <tr style=\"text-align: right;\">\n",
       "      <th></th>\n",
       "      <th>loan_amnt</th>\n",
       "      <th>funded_amnt</th>\n",
       "      <th>funded_amnt_inv</th>\n",
       "      <th>term</th>\n",
       "      <th>int_rate</th>\n",
       "      <th>installment</th>\n",
       "      <th>grade</th>\n",
       "      <th>sub_grade</th>\n",
       "      <th>emp_title</th>\n",
       "      <th>emp_length</th>\n",
       "      <th>...</th>\n",
       "      <th>sec_app_earliest_cr_line</th>\n",
       "      <th>sec_app_inq_last_6mths</th>\n",
       "      <th>sec_app_mort_acc</th>\n",
       "      <th>sec_app_open_acc</th>\n",
       "      <th>sec_app_revol_util</th>\n",
       "      <th>sec_app_open_il_6m</th>\n",
       "      <th>sec_app_num_rev_accts</th>\n",
       "      <th>sec_app_chargeoff_within_12_mths</th>\n",
       "      <th>sec_app_collections_12_mths_ex_med</th>\n",
       "      <th>sec_app_mths_since_last_major_derog</th>\n",
       "    </tr>\n",
       "  </thead>\n",
       "  <tbody>\n",
       "    <tr>\n",
       "      <th>0</th>\n",
       "      <td>5000</td>\n",
       "      <td>5000</td>\n",
       "      <td>4975.0</td>\n",
       "      <td>36 months</td>\n",
       "      <td>10.65%</td>\n",
       "      <td>162.87</td>\n",
       "      <td>B</td>\n",
       "      <td>B2</td>\n",
       "      <td>NaN</td>\n",
       "      <td>10+ years</td>\n",
       "      <td>...</td>\n",
       "      <td>NaN</td>\n",
       "      <td>NaN</td>\n",
       "      <td>NaN</td>\n",
       "      <td>NaN</td>\n",
       "      <td>NaN</td>\n",
       "      <td>NaN</td>\n",
       "      <td>NaN</td>\n",
       "      <td>NaN</td>\n",
       "      <td>NaN</td>\n",
       "      <td>NaN</td>\n",
       "    </tr>\n",
       "    <tr>\n",
       "      <th>1</th>\n",
       "      <td>2500</td>\n",
       "      <td>2500</td>\n",
       "      <td>2500.0</td>\n",
       "      <td>60 months</td>\n",
       "      <td>15.27%</td>\n",
       "      <td>59.83</td>\n",
       "      <td>C</td>\n",
       "      <td>C4</td>\n",
       "      <td>Ryder</td>\n",
       "      <td>&lt; 1 year</td>\n",
       "      <td>...</td>\n",
       "      <td>NaN</td>\n",
       "      <td>NaN</td>\n",
       "      <td>NaN</td>\n",
       "      <td>NaN</td>\n",
       "      <td>NaN</td>\n",
       "      <td>NaN</td>\n",
       "      <td>NaN</td>\n",
       "      <td>NaN</td>\n",
       "      <td>NaN</td>\n",
       "      <td>NaN</td>\n",
       "    </tr>\n",
       "    <tr>\n",
       "      <th>2</th>\n",
       "      <td>2400</td>\n",
       "      <td>2400</td>\n",
       "      <td>2400.0</td>\n",
       "      <td>36 months</td>\n",
       "      <td>15.96%</td>\n",
       "      <td>84.33</td>\n",
       "      <td>C</td>\n",
       "      <td>C5</td>\n",
       "      <td>NaN</td>\n",
       "      <td>10+ years</td>\n",
       "      <td>...</td>\n",
       "      <td>NaN</td>\n",
       "      <td>NaN</td>\n",
       "      <td>NaN</td>\n",
       "      <td>NaN</td>\n",
       "      <td>NaN</td>\n",
       "      <td>NaN</td>\n",
       "      <td>NaN</td>\n",
       "      <td>NaN</td>\n",
       "      <td>NaN</td>\n",
       "      <td>NaN</td>\n",
       "    </tr>\n",
       "    <tr>\n",
       "      <th>3</th>\n",
       "      <td>10000</td>\n",
       "      <td>10000</td>\n",
       "      <td>10000.0</td>\n",
       "      <td>36 months</td>\n",
       "      <td>13.49%</td>\n",
       "      <td>339.31</td>\n",
       "      <td>C</td>\n",
       "      <td>C1</td>\n",
       "      <td>AIR RESOURCES BOARD</td>\n",
       "      <td>10+ years</td>\n",
       "      <td>...</td>\n",
       "      <td>NaN</td>\n",
       "      <td>NaN</td>\n",
       "      <td>NaN</td>\n",
       "      <td>NaN</td>\n",
       "      <td>NaN</td>\n",
       "      <td>NaN</td>\n",
       "      <td>NaN</td>\n",
       "      <td>NaN</td>\n",
       "      <td>NaN</td>\n",
       "      <td>NaN</td>\n",
       "    </tr>\n",
       "    <tr>\n",
       "      <th>4</th>\n",
       "      <td>3000</td>\n",
       "      <td>3000</td>\n",
       "      <td>3000.0</td>\n",
       "      <td>60 months</td>\n",
       "      <td>12.69%</td>\n",
       "      <td>67.79</td>\n",
       "      <td>B</td>\n",
       "      <td>B5</td>\n",
       "      <td>University Medical Group</td>\n",
       "      <td>1 year</td>\n",
       "      <td>...</td>\n",
       "      <td>NaN</td>\n",
       "      <td>NaN</td>\n",
       "      <td>NaN</td>\n",
       "      <td>NaN</td>\n",
       "      <td>NaN</td>\n",
       "      <td>NaN</td>\n",
       "      <td>NaN</td>\n",
       "      <td>NaN</td>\n",
       "      <td>NaN</td>\n",
       "      <td>NaN</td>\n",
       "    </tr>\n",
       "  </tbody>\n",
       "</table>\n",
       "<p>5 rows × 120 columns</p>\n",
       "</div>"
      ],
      "text/plain": [
       "   loan_amnt  funded_amnt  funded_amnt_inv        term int_rate  installment  \\\n",
       "0       5000         5000           4975.0   36 months   10.65%       162.87   \n",
       "1       2500         2500           2500.0   60 months   15.27%        59.83   \n",
       "2       2400         2400           2400.0   36 months   15.96%        84.33   \n",
       "3      10000        10000          10000.0   36 months   13.49%       339.31   \n",
       "4       3000         3000           3000.0   60 months   12.69%        67.79   \n",
       "\n",
       "  grade sub_grade                 emp_title emp_length  \\\n",
       "0     B        B2                       NaN  10+ years   \n",
       "1     C        C4                     Ryder   < 1 year   \n",
       "2     C        C5                       NaN  10+ years   \n",
       "3     C        C1       AIR RESOURCES BOARD  10+ years   \n",
       "4     B        B5  University Medical Group     1 year   \n",
       "\n",
       "                  ...                 sec_app_earliest_cr_line  \\\n",
       "0                 ...                                      NaN   \n",
       "1                 ...                                      NaN   \n",
       "2                 ...                                      NaN   \n",
       "3                 ...                                      NaN   \n",
       "4                 ...                                      NaN   \n",
       "\n",
       "   sec_app_inq_last_6mths sec_app_mort_acc sec_app_open_acc  \\\n",
       "0                     NaN              NaN              NaN   \n",
       "1                     NaN              NaN              NaN   \n",
       "2                     NaN              NaN              NaN   \n",
       "3                     NaN              NaN              NaN   \n",
       "4                     NaN              NaN              NaN   \n",
       "\n",
       "  sec_app_revol_util sec_app_open_il_6m  sec_app_num_rev_accts  \\\n",
       "0                NaN                NaN                    NaN   \n",
       "1                NaN                NaN                    NaN   \n",
       "2                NaN                NaN                    NaN   \n",
       "3                NaN                NaN                    NaN   \n",
       "4                NaN                NaN                    NaN   \n",
       "\n",
       "  sec_app_chargeoff_within_12_mths sec_app_collections_12_mths_ex_med  \\\n",
       "0                              NaN                                NaN   \n",
       "1                              NaN                                NaN   \n",
       "2                              NaN                                NaN   \n",
       "3                              NaN                                NaN   \n",
       "4                              NaN                                NaN   \n",
       "\n",
       "  sec_app_mths_since_last_major_derog  \n",
       "0                                 NaN  \n",
       "1                                 NaN  \n",
       "2                                 NaN  \n",
       "3                                 NaN  \n",
       "4                                 NaN  \n",
       "\n",
       "[5 rows x 120 columns]"
      ]
     },
     "execution_count": 6,
     "metadata": {},
     "output_type": "execute_result"
    }
   ],
   "source": [
    "# Make sure it loaded correctly.\n",
    "df_lendingclub.head()"
   ]
  },
  {
   "cell_type": "code",
   "execution_count": 7,
   "metadata": {
    "collapsed": false
   },
   "outputs": [
    {
     "name": "stdout",
     "output_type": "stream",
     "text": [
      "['loan_amnt', 'funded_amnt', 'funded_amnt_inv', 'term', 'int_rate', 'installment', 'grade', 'sub_grade', 'emp_title', 'emp_length', 'home_ownership', 'annual_inc', 'verification_status', 'issue_d', 'loan_status', 'pymnt_plan', 'url', 'desc', 'purpose', 'title', 'zip_code', 'addr_state', 'dti', 'delinq_2yrs', 'earliest_cr_line', 'inq_last_6mths', 'mths_since_last_delinq', 'mths_since_last_record', 'open_acc', 'pub_rec', 'revol_bal', 'revol_util', 'total_acc', 'initial_list_status', 'out_prncp', 'out_prncp_inv', 'total_pymnt', 'total_pymnt_inv', 'total_rec_prncp', 'total_rec_int', 'total_rec_late_fee', 'recoveries', 'collection_recovery_fee', 'last_pymnt_d', 'last_pymnt_amnt', 'next_pymnt_d', 'last_credit_pull_d', 'collections_12_mths_ex_med', 'mths_since_last_major_derog', 'policy_code', 'application_type', 'annual_inc_joint', 'dti_joint', 'verification_status_joint', 'acc_now_delinq', 'tot_coll_amt', 'tot_cur_bal', 'open_acc_6m', 'open_il_6m', 'open_il_12m', 'open_il_24m', 'mths_since_rcnt_il', 'total_bal_il', 'il_util', 'open_rv_12m', 'open_rv_24m', 'max_bal_bc', 'all_util', 'total_rev_hi_lim', 'inq_fi', 'total_cu_tl', 'inq_last_12m', 'acc_open_past_24mths', 'avg_cur_bal', 'bc_open_to_buy', 'bc_util', 'chargeoff_within_12_mths', 'delinq_amnt', 'mo_sin_old_il_acct', 'mo_sin_old_rev_tl_op', 'mo_sin_rcnt_rev_tl_op', 'mo_sin_rcnt_tl', 'mort_acc', 'mths_since_recent_bc', 'mths_since_recent_bc_dlq', 'mths_since_recent_inq', 'mths_since_recent_revol_delinq', 'num_accts_ever_120_pd', 'num_actv_bc_tl', 'num_actv_rev_tl', 'num_bc_sats', 'num_bc_tl', 'num_il_tl', 'num_op_rev_tl', 'num_rev_accts', 'num_rev_tl_bal_gt_0', 'num_sats', 'num_tl_120dpd_2m', 'num_tl_30dpd', 'num_tl_90g_dpd_24m', 'num_tl_op_past_12m', 'pct_tl_nvr_dlq', 'percent_bc_gt_75', 'pub_rec_bankruptcies', 'tax_liens', 'tot_hi_cred_lim', 'total_bal_ex_mort', 'total_bc_limit', 'total_il_high_credit_limit', 'revol_bal_joint', 'sec_app_earliest_cr_line', 'sec_app_inq_last_6mths', 'sec_app_mort_acc', 'sec_app_open_acc', 'sec_app_revol_util', 'sec_app_open_il_6m', 'sec_app_num_rev_accts', 'sec_app_chargeoff_within_12_mths', 'sec_app_collections_12_mths_ex_med', 'sec_app_mths_since_last_major_derog']\n"
     ]
    }
   ],
   "source": [
    "# What are the columns?  \n",
    "print(list(df_lendingclub.columns))"
   ]
  },
  {
   "cell_type": "code",
   "execution_count": 8,
   "metadata": {
    "collapsed": false
   },
   "outputs": [
    {
     "data": {
      "text/plain": [
       "loan_amnt                                                           5000\n",
       "funded_amnt                                                         5000\n",
       "funded_amnt_inv                                                     4975\n",
       "term                                                           36 months\n",
       "int_rate                                                          10.65%\n",
       "installment                                                       162.87\n",
       "grade                                                                  B\n",
       "sub_grade                                                             B2\n",
       "emp_title                                                            NaN\n",
       "emp_length                                                     10+ years\n",
       "home_ownership                                                      RENT\n",
       "annual_inc                                                         24000\n",
       "verification_status                                             Verified\n",
       "issue_d                                                           Dec-11\n",
       "loan_status                                                   Fully Paid\n",
       "pymnt_plan                                                             n\n",
       "url                                                                  NaN\n",
       "desc                     Borrower added on 12/22/11 > I need to upgra...\n",
       "purpose                                                      credit_card\n",
       "title                                                           Computer\n",
       "Name: 0, dtype: object"
      ]
     },
     "execution_count": 8,
     "metadata": {},
     "output_type": "execute_result"
    }
   ],
   "source": [
    "# Examine first record, first 20 columns.\n",
    "df_lendingclub.iloc[0, 0:20]"
   ]
  },
  {
   "cell_type": "code",
   "execution_count": 9,
   "metadata": {
    "collapsed": false
   },
   "outputs": [
    {
     "data": {
      "text/plain": [
       "'  Borrower added on 12/22/11 > I need to upgrade my business technologies.<br>'"
      ]
     },
     "execution_count": 9,
     "metadata": {},
     "output_type": "execute_result"
    }
   ],
   "source": [
    "# Examine first record, 'desc'.\n",
    "df_lendingclub['desc'][0]"
   ]
  },
  {
   "cell_type": "code",
   "execution_count": 10,
   "metadata": {
    "collapsed": false
   },
   "outputs": [
    {
     "data": {
      "text/plain": [
       "'Fully Paid'"
      ]
     },
     "execution_count": 10,
     "metadata": {},
     "output_type": "execute_result"
    }
   ],
   "source": [
    "# Examine first record, 'loan_status'.\n",
    "df_lendingclub['loan_status'][0]"
   ]
  },
  {
   "cell_type": "markdown",
   "metadata": {},
   "source": [
    "## Column Descriptions From Lending Club Data Dictionary:\n",
    ">'desc': Loan description provided by the borrower\n",
    "<br>\n",
    "<br>'loan_status': Current status of the loan"
   ]
  },
  {
   "cell_type": "code",
   "execution_count": 11,
   "metadata": {
    "collapsed": false
   },
   "outputs": [
    {
     "name": "stdout",
     "output_type": "stream",
     "text": [
      "(39786, 2)\n"
     ]
    },
    {
     "data": {
      "text/html": [
       "<div>\n",
       "<style>\n",
       "    .dataframe thead tr:only-child th {\n",
       "        text-align: right;\n",
       "    }\n",
       "\n",
       "    .dataframe thead th {\n",
       "        text-align: left;\n",
       "    }\n",
       "\n",
       "    .dataframe tbody tr th {\n",
       "        vertical-align: top;\n",
       "    }\n",
       "</style>\n",
       "<table border=\"1\" class=\"dataframe\">\n",
       "  <thead>\n",
       "    <tr style=\"text-align: right;\">\n",
       "      <th></th>\n",
       "      <th>desc</th>\n",
       "      <th>loan_status</th>\n",
       "    </tr>\n",
       "  </thead>\n",
       "  <tbody>\n",
       "    <tr>\n",
       "      <th>0</th>\n",
       "      <td>Borrower added on 12/22/11 &gt; I need to upgra...</td>\n",
       "      <td>Fully Paid</td>\n",
       "    </tr>\n",
       "    <tr>\n",
       "      <th>1</th>\n",
       "      <td>Borrower added on 12/22/11 &gt; I plan to use t...</td>\n",
       "      <td>Charged Off</td>\n",
       "    </tr>\n",
       "    <tr>\n",
       "      <th>2</th>\n",
       "      <td>NaN</td>\n",
       "      <td>Fully Paid</td>\n",
       "    </tr>\n",
       "    <tr>\n",
       "      <th>3</th>\n",
       "      <td>Borrower added on 12/21/11 &gt; to pay for prop...</td>\n",
       "      <td>Fully Paid</td>\n",
       "    </tr>\n",
       "    <tr>\n",
       "      <th>4</th>\n",
       "      <td>Borrower added on 12/21/11 &gt; I plan on combi...</td>\n",
       "      <td>Fully Paid</td>\n",
       "    </tr>\n",
       "  </tbody>\n",
       "</table>\n",
       "</div>"
      ],
      "text/plain": [
       "                                                desc  loan_status\n",
       "0    Borrower added on 12/22/11 > I need to upgra...   Fully Paid\n",
       "1    Borrower added on 12/22/11 > I plan to use t...  Charged Off\n",
       "2                                                NaN   Fully Paid\n",
       "3    Borrower added on 12/21/11 > to pay for prop...   Fully Paid\n",
       "4    Borrower added on 12/21/11 > I plan on combi...   Fully Paid"
      ]
     },
     "execution_count": 11,
     "metadata": {},
     "output_type": "execute_result"
    }
   ],
   "source": [
    "# Create new dataframe with 2 columns: 'desc' and 'loan_status'\n",
    "df_text = df_lendingclub[['desc', 'loan_status']].copy()\n",
    "\n",
    "# How many rows and columns?\n",
    "print(df_text.shape)\n",
    "\n",
    "# See if it loaded correctly.\n",
    "df_text.head()"
   ]
  },
  {
   "cell_type": "markdown",
   "metadata": {},
   "source": [
    "## Loan Status of Total Loans"
   ]
  },
  {
   "cell_type": "code",
   "execution_count": 12,
   "metadata": {
    "collapsed": false
   },
   "outputs": [
    {
     "name": "stdout",
     "output_type": "stream",
     "text": [
      "Total number of loans:  39786\n",
      "\n",
      "Total loans by loan status: \n",
      "Fully Paid     34116\n",
      "Charged Off     5670\n",
      "Name: loan_status, dtype: int64\n",
      "\n",
      "% of total loans by loan status: \n",
      "Fully Paid     0.857488\n",
      "Charged Off    0.142512\n",
      "Name: loan_status, dtype: float64\n"
     ]
    }
   ],
   "source": [
    "# Total number of loans\n",
    "print(\"Total number of loans: \", df_text.shape[0])\n",
    "\n",
    "# How many are Fully Paid vs. Charged off?\n",
    "loan_status = df_text['loan_status'].value_counts()\n",
    "print(\"\\nTotal loans by loan status: \")\n",
    "print(loan_status)\n",
    "\n",
    "# What % of loans are Fully Paid?\n",
    "print(\"\\n% of total loans by loan status: \")\n",
    "print(loan_status/df_text.shape[0])"
   ]
  },
  {
   "cell_type": "markdown",
   "metadata": {},
   "source": [
    "## Loans  with Blank Descriptions by Loan Status"
   ]
  },
  {
   "cell_type": "code",
   "execution_count": 13,
   "metadata": {
    "collapsed": false
   },
   "outputs": [
    {
     "name": "stdout",
     "output_type": "stream",
     "text": [
      "Number of loans with blank descriptions:  12966\n",
      "% of loans with blank descriptions:  0.325893530388\n",
      "\n",
      "Loans with blank descriptions by loan status: \n",
      "Fully Paid     11147\n",
      "Charged Off     1819\n",
      "Name: loan_status, dtype: int64\n",
      "\n",
      "% of loans with blank descriptions by loan status: \n",
      "Fully Paid     0.85971\n",
      "Charged Off    0.14029\n",
      "Name: loan_status, dtype: float64\n"
     ]
    }
   ],
   "source": [
    "# How many 'desc' fields are blank?\n",
    "blank_desc = df_text['desc'].isnull().sum()\n",
    "print(\"Number of loans with blank descriptions: \", blank_desc)\n",
    "print(\"% of loans with blank descriptions: \", blank_desc/df_text.shape[0])\n",
    "\n",
    "# Of the loans with blank descriptions, what is loan status?\n",
    "blank_loan_status = df_text[df_text['desc'].isnull()]['loan_status'].value_counts()\n",
    "print(\"\\nLoans with blank descriptions by loan status: \")\n",
    "print(blank_loan_status)\n",
    "\n",
    "# What % of loans with blank descriptions are Fully Paid?\n",
    "print(\"\\n% of loans with blank descriptions by loan status: \")\n",
    "print(blank_loan_status/blank_desc)"
   ]
  },
  {
   "cell_type": "markdown",
   "metadata": {},
   "source": [
    "## Only Loans with Descriptions"
   ]
  },
  {
   "cell_type": "code",
   "execution_count": 14,
   "metadata": {
    "collapsed": false
   },
   "outputs": [
    {
     "data": {
      "text/html": [
       "<div>\n",
       "<style>\n",
       "    .dataframe thead tr:only-child th {\n",
       "        text-align: right;\n",
       "    }\n",
       "\n",
       "    .dataframe thead th {\n",
       "        text-align: left;\n",
       "    }\n",
       "\n",
       "    .dataframe tbody tr th {\n",
       "        vertical-align: top;\n",
       "    }\n",
       "</style>\n",
       "<table border=\"1\" class=\"dataframe\">\n",
       "  <thead>\n",
       "    <tr style=\"text-align: right;\">\n",
       "      <th></th>\n",
       "      <th>desc</th>\n",
       "      <th>loan_status</th>\n",
       "    </tr>\n",
       "  </thead>\n",
       "  <tbody>\n",
       "    <tr>\n",
       "      <th>0</th>\n",
       "      <td>Borrower added on 12/22/11 &gt; I need to upgra...</td>\n",
       "      <td>Fully Paid</td>\n",
       "    </tr>\n",
       "    <tr>\n",
       "      <th>1</th>\n",
       "      <td>Borrower added on 12/22/11 &gt; I plan to use t...</td>\n",
       "      <td>Charged Off</td>\n",
       "    </tr>\n",
       "    <tr>\n",
       "      <th>3</th>\n",
       "      <td>Borrower added on 12/21/11 &gt; to pay for prop...</td>\n",
       "      <td>Fully Paid</td>\n",
       "    </tr>\n",
       "    <tr>\n",
       "      <th>4</th>\n",
       "      <td>Borrower added on 12/21/11 &gt; I plan on combi...</td>\n",
       "      <td>Fully Paid</td>\n",
       "    </tr>\n",
       "    <tr>\n",
       "      <th>6</th>\n",
       "      <td>Borrower added on 12/18/11 &gt; I am planning o...</td>\n",
       "      <td>Fully Paid</td>\n",
       "    </tr>\n",
       "  </tbody>\n",
       "</table>\n",
       "</div>"
      ],
      "text/plain": [
       "                                                desc  loan_status\n",
       "0    Borrower added on 12/22/11 > I need to upgra...   Fully Paid\n",
       "1    Borrower added on 12/22/11 > I plan to use t...  Charged Off\n",
       "3    Borrower added on 12/21/11 > to pay for prop...   Fully Paid\n",
       "4    Borrower added on 12/21/11 > I plan on combi...   Fully Paid\n",
       "6    Borrower added on 12/18/11 > I am planning o...   Fully Paid"
      ]
     },
     "execution_count": 14,
     "metadata": {},
     "output_type": "execute_result"
    }
   ],
   "source": [
    "# Only include loans with descriptions, use dropna() method.\n",
    "df_text_desc = df_text.dropna()\n",
    "df_text_desc.head()"
   ]
  },
  {
   "cell_type": "code",
   "execution_count": 15,
   "metadata": {
    "collapsed": false
   },
   "outputs": [
    {
     "name": "stdout",
     "output_type": "stream",
     "text": [
      "Number of loans with a description:  26820\n",
      "\n",
      "Loans with descriptions by loan status: \n",
      "Fully Paid     22969\n",
      "Charged Off     3851\n",
      "Name: loan_status, dtype: int64\n",
      "\n",
      "% of loans with descriptions by loan status: \n",
      "Fully Paid     0.856413\n",
      "Charged Off    0.143587\n",
      "Name: loan_status, dtype: float64\n"
     ]
    }
   ],
   "source": [
    "# How many loans have a description?\n",
    "print(\"Number of loans with a description: \", df_text_desc.shape[0])\n",
    "\n",
    "# Loans with description by loan status?\n",
    "print(\"\\nLoans with descriptions by loan status: \")\n",
    "loan_status_desc = df_text_desc['loan_status'].value_counts()\n",
    "print(loan_status_desc)\n",
    "\n",
    "# What % of loans with descriptions are Fully Paid vs. Charged Off?\n",
    "print(\"\\n% of loans with descriptions by loan status: \")\n",
    "print(loan_status_desc/df_text_desc.shape[0])"
   ]
  },
  {
   "cell_type": "markdown",
   "metadata": {},
   "source": [
    "## Very Important to Balance the Classes\n",
    "Particularly for high-dimensional, highly-sparse datasets\n",
    "> Blagus, Rok and Lusa, Lara, “SMOTE for high-dimensional class-imbalanced data,” BMC Bioinformatics, March 22, 2013.  Available at: https://bmcbioinformatics.biomedcentral.com/articles/10.1186/1471-2105-14-106\n",
    ">\n",
    "><br>Blagus, Rok and Lusa, Lara, “Class prediction for high-dimensional class-imbalanced data,” BMC Bioinformatics, October 20, 2010.  Available at: https://bmcbioinformatics.biomedcentral.com/articles/10.1186/1471-2105-11-523\n",
    ">\n",
    "><br>Alexander Yun-chung Liu, “The Effect of Oversampling and Undersampling on Classifying Imbalanced Text Datasets,” Thesis for M.S.E., The University of Texas at Austin, August 2004.  Available at: https://pdfs.semanticscholar.org/cade/435c88610820f073a0fb61b73dff8f006760.pdf\n",
    ">\n",
    "><br>Nick Becker Github page, “The Right Way to Oversample in Predictive Modeling,” December 23, 2016.  Available at: https://beckernick.github.io/oversampling-modeling/\n"
   ]
  },
  {
   "cell_type": "code",
   "execution_count": 16,
   "metadata": {
    "collapsed": false
   },
   "outputs": [
    {
     "data": {
      "text/plain": [
       "<matplotlib.axes._subplots.AxesSubplot at 0x1d9afbf56a0>"
      ]
     },
     "execution_count": 16,
     "metadata": {},
     "output_type": "execute_result"
    },
    {
     "data": {
      "image/png": "[encoded data removed]",
      "text/plain": [
       "<matplotlib.figure.Figure at 0x1d9b09f7438>"
      ]
     },
     "metadata": {},
     "output_type": "display_data"
    }
   ],
   "source": [
    "# Bar chart showing different size of \"Fully Paid\" vs. \"Charged Off\"\n",
    "df_text_desc['loan_status'].value_counts().plot(kind='bar')"
   ]
  },
  {
   "cell_type": "code",
   "execution_count": 17,
   "metadata": {
    "collapsed": false
   },
   "outputs": [
    {
     "data": {
      "text/plain": [
       "(3851, 2)"
      ]
     },
     "execution_count": 17,
     "metadata": {},
     "output_type": "execute_result"
    }
   ],
   "source": [
    "'''\n",
    "In order to balance the classes, under-sample the majority class.\n",
    "Over-sampling the majority class can be done with SMOTE (Synthetic Minority Over-Sampling), \n",
    "but does not yield good results for high-dimensional, high-sparse datasets.  \n",
    "'''\n",
    "\n",
    "# Save Fully Paid (majority class) as separate dataframe.\n",
    "fully_paid = df_text_desc['loan_status'] == 'Fully Paid'\n",
    "df_fully_paid = df_text_desc[fully_paid]\n",
    "\n",
    "# Run pandas.sample method to use same number of samples as minority class.  \n",
    "num_samples = loan_status_desc[1]    # number of loans \"Charged Off\" (e.g. 3851)\n",
    "df_fp_undersample = df_fully_paid.sample(num_samples, random_state=1)  \n",
    "df_fp_undersample.shape"
   ]
  },
  {
   "cell_type": "code",
   "execution_count": 18,
   "metadata": {
    "collapsed": false
   },
   "outputs": [
    {
     "data": {
      "text/plain": [
       "(3851, 2)"
      ]
     },
     "execution_count": 18,
     "metadata": {},
     "output_type": "execute_result"
    }
   ],
   "source": [
    "# Save minority class as separate dataframe.\n",
    "charged_off = df_text_desc['loan_status'] == 'Charged Off'\n",
    "df_charged_off = df_text_desc[charged_off]\n",
    "df_charged_off.shape"
   ]
  },
  {
   "cell_type": "code",
   "execution_count": 19,
   "metadata": {
    "collapsed": false
   },
   "outputs": [
    {
     "data": {
      "text/plain": [
       "(7702, 2)"
      ]
     },
     "execution_count": 19,
     "metadata": {},
     "output_type": "execute_result"
    }
   ],
   "source": [
    "# Concatenate the \"Fully Paid\" (under-sampled) and \"Charged Off\" into one dataframe\n",
    "bal_frames = [df_fp_undersample, df_charged_off]\n",
    "df_balanced = pd.concat(bal_frames)\n",
    "df_balanced.shape"
   ]
  },
  {
   "cell_type": "code",
   "execution_count": 20,
   "metadata": {
    "collapsed": false
   },
   "outputs": [
    {
     "data": {
      "text/plain": [
       "<matplotlib.axes._subplots.AxesSubplot at 0x1d9afcf8cc0>"
      ]
     },
     "execution_count": 20,
     "metadata": {},
     "output_type": "execute_result"
    },
    {
     "data": {
      "image/png": "[encoded data removed]",
      "text/plain": [
       "<matplotlib.figure.Figure at 0x1d9afcd2b38>"
      ]
     },
     "metadata": {},
     "output_type": "display_data"
    }
   ],
   "source": [
    "# Bar chart showing different size of \"Fully Paid\" vs. \"Charged Off\" (Balanced)\n",
    "df_balanced['loan_status'].value_counts().plot(kind='bar')"
   ]
  },
  {
   "cell_type": "markdown",
   "metadata": {},
   "source": [
    "## Train/Test Split"
   ]
  },
  {
   "cell_type": "code",
   "execution_count": 21,
   "metadata": {
    "collapsed": false
   },
   "outputs": [
    {
     "name": "stdout",
     "output_type": "stream",
     "text": [
      "X training size:  (6161,)\n",
      "y training size:  (6161,)\n",
      "X test size:  (1541,)\n",
      "y test size:  (1541,)\n"
     ]
    }
   ],
   "source": [
    "# Split the Content and Classes into train and test sets (20%).\n",
    "# To ensure that it splits it according to same class ratio, use \"stratify\" parameter.  \n",
    "X_train, X_test, y_train, y_test = train_test_split(df_balanced['desc'], df_balanced['loan_status'], \n",
    "                                                    random_state=1, test_size=0.2, stratify=df_balanced['loan_status'])\n",
    "\n",
    "# Print the size of each train and test datasets\n",
    "print('X training size: ', X_train.shape)\n",
    "print('y training size: ', y_train.shape)\n",
    "print('X test size: ', X_test.shape)\n",
    "print('y test size: ', y_test.shape)"
   ]
  },
  {
   "cell_type": "code",
   "execution_count": 22,
   "metadata": {
    "collapsed": false
   },
   "outputs": [
    {
     "data": {
      "text/plain": [
       "12060      Borrower added on 07/04/11 > I plan to use t...\n",
       "33900     575633 added on 11/18/09 > I plan on using th...\n",
       "29767      Borrower added on 05/23/10 > This loan if fu...\n",
       "39462    I hope to use the money to consolidate two cre...\n",
       "37935    Thank you for taking the time to consider my a...\n",
       "Name: desc, dtype: object"
      ]
     },
     "execution_count": 22,
     "metadata": {},
     "output_type": "execute_result"
    }
   ],
   "source": [
    "# X_train is the loan descriptions from 'desc' field (80% of total)\n",
    "X_train[0:5]"
   ]
  },
  {
   "cell_type": "code",
   "execution_count": 23,
   "metadata": {
    "collapsed": false
   },
   "outputs": [
    {
     "data": {
      "text/plain": [
       "12060    Charged Off\n",
       "33900     Fully Paid\n",
       "29767     Fully Paid\n",
       "39462    Charged Off\n",
       "37935    Charged Off\n",
       "Name: loan_status, dtype: object"
      ]
     },
     "execution_count": 23,
     "metadata": {},
     "output_type": "execute_result"
    }
   ],
   "source": [
    "# y_train is the class data, a.k.a. \"label data\" or \"target classes\" (80% of total)\n",
    "y_train[0:5]"
   ]
  },
  {
   "cell_type": "code",
   "execution_count": 24,
   "metadata": {
    "collapsed": false
   },
   "outputs": [
    {
     "data": {
      "text/plain": [
       "pandas.core.series.Series"
      ]
     },
     "execution_count": 24,
     "metadata": {},
     "output_type": "execute_result"
    }
   ],
   "source": [
    "# The test_train_split output retains the data type as a panda series.  \n",
    "# Later we will run a list comprehension so this data, changing data type.\n",
    "# Either data type should work fine.\n",
    "type(X_train)"
   ]
  },
  {
   "cell_type": "code",
   "execution_count": 25,
   "metadata": {
    "collapsed": true
   },
   "outputs": [],
   "source": [
    "# The test data represents 20% of the total.  X_test is loan descriptions, y_test is class data."
   ]
  },
  {
   "cell_type": "code",
   "execution_count": 26,
   "metadata": {
    "collapsed": false
   },
   "outputs": [
    {
     "data": {
      "text/plain": [
       "Fully Paid     771\n",
       "Charged Off    770\n",
       "Name: loan_status, dtype: int64"
      ]
     },
     "execution_count": 26,
     "metadata": {},
     "output_type": "execute_result"
    }
   ],
   "source": [
    "# Check the y_test value_counts to verify confusion matrix\n",
    "y_test.value_counts()"
   ]
  },
  {
   "cell_type": "markdown",
   "metadata": {},
   "source": [
    "## Option 1: Vectorize Text into Document-Term-Matrix (no pre-processing)\n",
    "* Leave text unprocessed, no lemmatization"
   ]
  },
  {
   "cell_type": "code",
   "execution_count": 28,
   "metadata": {
    "collapsed": false
   },
   "outputs": [
    {
     "name": "stdout",
     "output_type": "stream",
     "text": [
      "Size of training dtm:  (6161, 1000)\n"
     ]
    }
   ],
   "source": [
    "# Instantiate a vectorizer for document-term-matrix\n",
    "vect = CountVectorizer(max_features=1000)\n",
    "\n",
    "# Fit the vectorizer object to the X_train text\n",
    "X_train_vect = vect.fit(X_train, y_train)\n",
    "\n",
    "# Transform the training text into a document-term-matrix\n",
    "X_train_dtm = X_train_vect.transform(X_train)\n",
    "\n",
    "print(\"Size of training dtm: \", X_train_dtm.shape)"
   ]
  },
  {
   "cell_type": "code",
   "execution_count": 29,
   "metadata": {
    "collapsed": false
   },
   "outputs": [
    {
     "name": "stdout",
     "output_type": "stream",
     "text": [
      "Size of test dtm:  (1541, 1000)\n"
     ]
    }
   ],
   "source": [
    "# Transform the test text into a document-term-matrix (input fed into models)\n",
    "X_test_dtm = X_train_vect.transform(X_test)\n",
    "\n",
    "print(\"Size of test dtm: \", X_test_dtm.shape)"
   ]
  },
  {
   "cell_type": "markdown",
   "metadata": {},
   "source": [
    "## Option 2a: Vectorize Text into Document-Term-Matrix (with pre-processing)"
   ]
  },
  {
   "cell_type": "markdown",
   "metadata": {},
   "source": [
    "## Pre-processing text  \n",
    "Using techniques from Kaggle tutorial  and Scikit-Learn Tutorial.  (See references at the top).\n",
    "1. Create process_chars function\n",
    "1. List comprehension applying function to data.\n",
    "1. Create a LemmaTokenizer class\n",
    "1. Instantiate CountVectorizer object with LemmaTokenizer"
   ]
  },
  {
   "cell_type": "code",
   "execution_count": 52,
   "metadata": {
    "collapsed": true
   },
   "outputs": [],
   "source": [
    "# Step 1: Create process_chars function.\n",
    "\n",
    "# Use stopwords from NLTK, but also add individual letters.\n",
    "stop_nltk = stopwords.words(\"english\")\n",
    "stop_nltk_plus = stop_nltk + [u'a',u'b',u'c',u'd',u'e',u'f',u'g',u'h',u'i',u'j',\n",
    "                         u'k',u'l',u'm',u'n',u'o',u'p',u'q',u'r',u's',u't',\n",
    "                         u'u',u'v',u'w',u'x',u'y',u'z']\n",
    "# In Python, searching a set is much faster than searching\n",
    "# a list, so convert the stop words to a set.  \n",
    "# Use this \"steps\" set in the below function.  \n",
    "stops = set(stop_nltk_plus)\n",
    "    \n",
    "# function to process documents\n",
    "def process_chars(input_text):\n",
    "    # Remove non-letters, and make lowercase\n",
    "    letters_only = re.sub(\"[^a-zA-Z]\", \" \", input_text)\n",
    "        \n",
    "    # Convert to lower case, split into individual words\n",
    "    words = letters_only.lower().split()    \n",
    "    \n",
    "    # Remove stop words\n",
    "    meaningful_words = [w for w in words if not w in stops]   \n",
    "    \n",
    "    # Join the words back into one string separated by space, \n",
    "    # and return the result.\n",
    "    return( \" \".join( meaningful_words ))   "
   ]
  },
  {
   "cell_type": "code",
   "execution_count": 53,
   "metadata": {
    "collapsed": true
   },
   "outputs": [],
   "source": [
    "# Step 2: List comprehension applying function to data.\n",
    "\n",
    "# Process the text of X_train.  Keep same name for simplicity.\n",
    "X_train = [process_chars(text_file) for text_file in X_train]\n",
    "\n",
    "# Process the text of X_train.  Keep same name for simplicity.\n",
    "X_test = [process_chars(text_file) for text_file in X_test]"
   ]
  },
  {
   "cell_type": "code",
   "execution_count": 54,
   "metadata": {
    "collapsed": true
   },
   "outputs": [],
   "source": [
    "# Step 3: Create a LemmaTokenizer class.  \n",
    "# Based on Scikit-Learn \"Feature Extraction\" page.\n",
    "\n",
    "class LemmaTokenizer(object):\n",
    "    def __init__(self):\n",
    "        self.wnl = WordNetLemmatizer()\n",
    "    def __call__(self, doc):\n",
    "        return [self.wnl.lemmatize(t) for t in word_tokenize(doc)]"
   ]
  },
  {
   "cell_type": "code",
   "execution_count": 55,
   "metadata": {
    "collapsed": true
   },
   "outputs": [],
   "source": [
    "# Step 4: Instantiate CountVectorizer object with LemmaTokenizer.\n",
    "# Based on Scikit-Learn \"Feature Extraction\" page.\n",
    "\n",
    "# instantiate CountVectorizer object, with LemmaTokenizer()\n",
    "count_vect_lemma = CountVectorizer(tokenizer=LemmaTokenizer(), ngram_range=(1, 2), max_features=400, \n",
    "                                   max_df=0.90, stop_words='english')   "
   ]
  },
  {
   "cell_type": "code",
   "execution_count": 56,
   "metadata": {
    "collapsed": false
   },
   "outputs": [
    {
     "name": "stdout",
     "output_type": "stream",
     "text": [
      "Size of training dtm:  (6161, 400)\n",
      "Wall time: 11.9 s\n"
     ]
    }
   ],
   "source": [
    "%%time\n",
    "\n",
    "# Size of training dtm:  (6161, 1000)\n",
    "# Wall time: 20.2 s\n",
    "\n",
    "\n",
    "# Fit the vectorizer object to the X_train text data\n",
    "X_train_vect = count_vect_lemma.fit(X_train)\n",
    "\n",
    "# Transform the training text into a document-term-matrix\n",
    "X_train_dtm = X_train_vect.transform(X_train)\n",
    "\n",
    "print(\"Size of training dtm: \", X_train_dtm.shape)"
   ]
  },
  {
   "cell_type": "code",
   "execution_count": 57,
   "metadata": {
    "collapsed": false
   },
   "outputs": [
    {
     "name": "stdout",
     "output_type": "stream",
     "text": [
      "Size of test dtm:  (1541, 400)\n",
      "Wall time: 1.04 s\n"
     ]
    }
   ],
   "source": [
    "%%time\n",
    "\n",
    "# Size of test dtm:  (1541, 1000)\n",
    "# Wall time: 2.12 s\n",
    "\n",
    "\n",
    "# Transform the test text into a document-term-matrix (input fed into models)\n",
    "X_test_dtm = X_train_vect.transform(X_test)\n",
    "\n",
    "print(\"Size of test dtm: \", X_test_dtm.shape)"
   ]
  },
  {
   "cell_type": "markdown",
   "metadata": {},
   "source": [
    "## Option 2b: In addition to CountVectorizer, use TfidfTransformer\n",
    "Let's try 3 different options:\n",
    "1. TfidfTransformer(use_idf=True)\n",
    "1. TfidfTransformer(use_idf=False)\n",
    "1. Don't use TfidfTransformer at all"
   ]
  },
  {
   "cell_type": "code",
   "execution_count": 69,
   "metadata": {
    "collapsed": false
   },
   "outputs": [
    {
     "data": {
      "text/plain": [
       "(6161, 400)"
      ]
     },
     "execution_count": 69,
     "metadata": {},
     "output_type": "execute_result"
    }
   ],
   "source": [
    "# Instantiate a TfidfTransformer object, fit the X_train_dtm data, save as object.\n",
    "tf_transformer = TfidfTransformer(use_idf=True).fit(X_train_dtm)\n",
    "\n",
    "# Transform the X_train_dtm data to the TfidfTransformer.  \n",
    "# Could name is something else, but keeping same name for simplicity.\n",
    "X_train_dtm = tf_transformer.transform(X_train_dtm)\n",
    "\n",
    "# What is the shape of the document-term-matrix?  (Should be same.)\n",
    "X_train_dtm.shape"
   ]
  },
  {
   "cell_type": "markdown",
   "metadata": {},
   "source": [
    "## Option 2c: In addition to CountVectorizer, use TruncatedSVD\n",
    "TruncatedSVD used for dimensionality reduction, particular with sparse matrices (e.g. text matrices).\n",
    "\n",
    "When TruncatedSVD is used in conjunction with CountVectorizer and Tfidf, it is known as Latent Semantic Analysis (LSA).\n",
    "\n",
    "Scikit-Learn Documentation on TruncatedSVD\n",
    "> http://scikit-learn.org/stable/modules/generated/sklearn.decomposition.TruncatedSVD.html\n",
    "<br>\n",
    "><br>http://scikit-learn.org/stable/modules/decomposition.html\n",
    "<br>\n",
    "><br>http://scikit-learn.org/stable/auto_examples/text/document_clustering.html"
   ]
  },
  {
   "cell_type": "code",
   "execution_count": null,
   "metadata": {
    "collapsed": false
   },
   "outputs": [],
   "source": [
    "svd = TruncatedSVD()\n",
    "\n",
    "normalizer = Normalizer(copy=True)\n",
    "\n",
    "lsa = make_pipeline(svd, normalizer)\n",
    "\n",
    "X_train_dtm = lsa.fit_transform(X_train_dtm)\n",
    "\n",
    "X_test_dtm = lsa.transform(X_test_dtm)"
   ]
  },
  {
   "cell_type": "markdown",
   "metadata": {},
   "source": [
    "## Option 3: Vectorize Text Using Hashing Vectorizer\n",
    "Usually HashingVectorizer is used to vectorize text documents that do not fit in memory.  But maybe it can be used as a dimensionality reduction technique, and improve prediction accuracy.\n",
    "<br>\n",
    "<br>Scikit-Learn Documentation on HashingVectorizer:\n",
    ">http://scikit-learn.org/stable/modules/generated/sklearn.feature_extraction.text.HashingVectorizer.html#sklearn.feature_extraction.text.HashingVectorizer\n",
    "<br>\n",
    "><br>http://scikit-learn.org/stable/auto_examples/text/document_clustering.html"
   ]
  },
  {
   "cell_type": "code",
   "execution_count": 81,
   "metadata": {
    "collapsed": false
   },
   "outputs": [],
   "source": [
    "# Perform an IDF normalization on the output of HashingVectorizer\n",
    "hasher = HashingVectorizer(n_features=400,tokenizer=LemmaTokenizer(),\n",
    "                           stop_words='english', non_negative=True,\n",
    "                           norm=None, binary=False)\n",
    "\n",
    "# Vectorizer uses pipeline to combine hasher and TfidfTransformer\n",
    "vectorizer = make_pipeline(hasher, TfidfTransformer(use_idf=False))\n",
    "\n",
    "# Create X_train_dtm\n",
    "X_train_dtm = vectorizer.fit_transform(X_train)\n",
    "\n",
    "# Create X_test_dtm\n",
    "X_test_dtm = vectorizer.transform(X_test)"
   ]
  },
  {
   "cell_type": "markdown",
   "metadata": {},
   "source": [
    "## Option 4: Text Classification with Word2Vec\n",
    "http://nadbordrozd.github.io/blog/2016/05/20/text-classification-with-word2vec/"
   ]
  },
  {
   "cell_type": "code",
   "execution_count": 1,
   "metadata": {
    "collapsed": true
   },
   "outputs": [],
   "source": [
    "# An idea to explore in the future."
   ]
  },
  {
   "cell_type": "markdown",
   "metadata": {},
   "source": [
    "## Text Classification Example Without GridSearchCV\n",
    "* In practice, the GridSearchCV class accomplishes same result, while tuning combinations of model parameters.\n",
    "* But to make it simpler to follow the workflow, here is an example of text classification step-by-step."
   ]
  },
  {
   "cell_type": "code",
   "execution_count": 82,
   "metadata": {
    "collapsed": false
   },
   "outputs": [],
   "source": [
    "# Step 1: Instatiate a classifier object.\n",
    "rf_clf = RandomForestClassifier()\n",
    "\n",
    "# Step 2: \"Fit\" training data onto model, both data and labels.\n",
    "# The machine is \"learning\" how the training words match the label data (or \"classes\").  \n",
    "rf_clf.fit(X_train_dtm, y_train)\n",
    "\n",
    "# Step 3: Predict test data using model, only data (not labels)\n",
    "# Store results as predictions on test data ... next we will compare with real labels.  \n",
    "rf_test_predictions = rf_clf.predict(X_test_dtm)"
   ]
  },
  {
   "cell_type": "code",
   "execution_count": 83,
   "metadata": {
    "collapsed": false
   },
   "outputs": [
    {
     "name": "stdout",
     "output_type": "stream",
     "text": [
      "Random Forest Classifier: \n",
      "0.523036988968\n",
      "\n",
      "Confusion Matrix: \n",
      "(rows are actual, columns are predictions)\n",
      "[[486 284]\n",
      " [451 320]]\n",
      "\n",
      "Classification Report: \n",
      "             precision    recall  f1-score   support\n",
      "\n",
      "Charged Off       0.52      0.63      0.57       770\n",
      " Fully Paid       0.53      0.42      0.47       771\n",
      "\n",
      "avg / total       0.52      0.52      0.52      1541\n",
      "\n"
     ]
    }
   ],
   "source": [
    "print(\"Random Forest Classifier: \")\n",
    "\n",
    "# print accuracy of class predictions\n",
    "print(metrics.accuracy_score(y_test, rf_test_predictions))\n",
    "\n",
    "# print the confusion matrix\n",
    "print(\"\\nConfusion Matrix: \")\n",
    "print(\"(rows are actual, columns are predictions)\")\n",
    "print(metrics.confusion_matrix(y_test, rf_test_predictions, labels=[\"Charged Off\", \"Fully Paid\"]))\n",
    "\n",
    "# print the Classification Report\n",
    "print(\"\\nClassification Report: \")\n",
    "print(metrics.classification_report(y_test, rf_test_predictions,target_names=[\"Charged Off\", \"Fully Paid\"]))"
   ]
  },
  {
   "cell_type": "markdown",
   "metadata": {},
   "source": [
    "# Classification Technique #1: Random Forest Classifier"
   ]
  },
  {
   "cell_type": "code",
   "execution_count": 84,
   "metadata": {
    "collapsed": false
   },
   "outputs": [
    {
     "name": "stdout",
     "output_type": "stream",
     "text": [
      "0.538711248174\n",
      "bootstrap: True\n",
      "class_weight: 'balanced'\n",
      "n_estimators: 100\n",
      "Wall time: 1min 4s\n"
     ]
    }
   ],
   "source": [
    "%%time\n",
    "\n",
    "# 0.546664502516\n",
    "# bootstrap: True\n",
    "# class_weight: 'balanced'\n",
    "# n_estimators: 50\n",
    "# Wall time: 57.5 s\n",
    "\n",
    "# Use GridSearchCV to tune model parameters\n",
    "\n",
    "# parameters \n",
    "parameters_rf = {'n_estimators': (10, 50, 100),                 # default 10\n",
    "                 'bootstrap': (True, False),                    # default true\n",
    "                  'class_weight': ('balanced', None)}           # default None\n",
    "\n",
    "# instantiate a classifier object\n",
    "rf = RandomForestClassifier(random_state=42)\n",
    "\n",
    "# instantiate a GridSearchCV object\n",
    "gs_rf = GridSearchCV(rf, parameters_rf, n_jobs=-1)\n",
    "\n",
    "# fit the GridSearchCV object to the training data\n",
    "gs_rf = gs_rf.fit(X_train_dtm, y_train)\n",
    "\n",
    "print(gs_rf.best_score_)\n",
    "\n",
    "for param_name in sorted(parameters_rf.keys()):\n",
    "    print(\"%s: %r\" % (param_name, gs_rf.best_params_[param_name]))"
   ]
  },
  {
   "cell_type": "code",
   "execution_count": 85,
   "metadata": {
    "collapsed": false
   },
   "outputs": [
    {
     "name": "stdout",
     "output_type": "stream",
     "text": [
      "Random Forest Classifier: \n",
      "0.543153796236\n",
      "[[430 340]\n",
      " [364 407]]\n",
      "             precision    recall  f1-score   support\n",
      "\n",
      "Charged Off       0.54      0.56      0.55       770\n",
      " Fully Paid       0.54      0.53      0.54       771\n",
      "\n",
      "avg / total       0.54      0.54      0.54      1541\n",
      "\n"
     ]
    }
   ],
   "source": [
    "print(\"Random Forest Classifier: \")\n",
    "\n",
    "# predict classification\n",
    "gs_rf_test_predictions = gs_rf.predict(X_test_dtm)\n",
    "\n",
    "# print accuracy of class predictions\n",
    "print(metrics.accuracy_score(y_test, gs_rf_test_predictions))\n",
    "\n",
    "# print the confusion matrix\n",
    "print(metrics.confusion_matrix(y_test, gs_rf_test_predictions))\n",
    "\n",
    "print(metrics.classification_report(y_test, gs_rf_test_predictions,target_names=[\"Charged Off\", \"Fully Paid\"]))"
   ]
  },
  {
   "cell_type": "markdown",
   "metadata": {
    "collapsed": true
   },
   "source": [
    "# Classification Technique #2: Multinomial Naive Bayes"
   ]
  },
  {
   "cell_type": "code",
   "execution_count": 86,
   "metadata": {
    "collapsed": false
   },
   "outputs": [
    {
     "name": "stdout",
     "output_type": "stream",
     "text": [
      "Grid Search for MultinomialNB\n",
      "Accuracy:  0.541470540497\n",
      "alpha:  0.1\n",
      "fit_prior:  False\n",
      "Wall time: 6.31 s\n"
     ]
    }
   ],
   "source": [
    "%%time\n",
    "\n",
    "# Use GridSearchCV to tune model parameters\n",
    "\n",
    "# Grid Search for MultinomialNB\n",
    "# Accuracy:  0.561434832008\n",
    "# alpha:  1.0\n",
    "# fit_prior:  True\n",
    "# Wall time: 6.71 s\n",
    "    \n",
    "# parameters for MultinomialNB\n",
    "parameters_mnb = {'alpha': (0.001, 0.01, 0.1, 1.0, 10.0, 100.0),\n",
    "                 'fit_prior': (True, False)}    # default is True, use uniform if False\n",
    "\n",
    "# instantiate a MultinomialNB object\n",
    "mnb = MultinomialNB()\n",
    "\n",
    "# instantiate a GridSearchCV object\n",
    "gs_mnb = GridSearchCV(mnb, parameters_mnb, n_jobs=-1)\n",
    "\n",
    "# fit the GridSearchCV object to the training data\n",
    "gs_mnb = gs_mnb.fit(X_train_dtm, y_train)\n",
    "\n",
    "print(\"Grid Search for MultinomialNB\")\n",
    "print(\"Accuracy: \", gs_mnb.best_score_)\n",
    "print(\"alpha: \", gs_mnb.best_params_['alpha'])\n",
    "print(\"fit_prior: \", gs_mnb.best_params_['fit_prior'])\n",
    "# for param_name in sorted(parameters.keys()):\n",
    "#     print(\"%s: %r\" % (param_name, gs_clf.best_params_[param_name]))"
   ]
  },
  {
   "cell_type": "code",
   "execution_count": 87,
   "metadata": {
    "collapsed": false
   },
   "outputs": [
    {
     "name": "stdout",
     "output_type": "stream",
     "text": [
      "Multinomial Naive Bayes: \n",
      "0.550940947437\n",
      "[[394 376]\n",
      " [316 455]]\n",
      "             precision    recall  f1-score   support\n",
      "\n",
      "Charged Off       0.55      0.51      0.53       770\n",
      " Fully Paid       0.55      0.59      0.57       771\n",
      "\n",
      "avg / total       0.55      0.55      0.55      1541\n",
      "\n"
     ]
    }
   ],
   "source": [
    "print(\"Multinomial Naive Bayes: \")\n",
    "\n",
    "# predict classification\n",
    "gs_mnb_test_predictions = gs_mnb.predict(X_test_dtm)\n",
    "\n",
    "# print accuracy of class predictions\n",
    "print(metrics.accuracy_score(y_test, gs_mnb_test_predictions))\n",
    "\n",
    "# print the confusion matrix\n",
    "print(metrics.confusion_matrix(y_test, gs_mnb_test_predictions))\n",
    "\n",
    "# print classification report\n",
    "print(metrics.classification_report(y_test, gs_mnb_test_predictions))"
   ]
  },
  {
   "cell_type": "code",
   "execution_count": 88,
   "metadata": {
    "collapsed": false
   },
   "outputs": [
    {
     "name": "stdout",
     "output_type": "stream",
     "text": [
      "Compare Target Class Label Counts to Classification Report\n",
      "0: Ham, 1: Spam\n",
      "\n",
      "Charged Off    770\n",
      "Fully Paid     771\n",
      "Name: loan_status, dtype: int64\n"
     ]
    }
   ],
   "source": [
    "# Verify classes against the y_test data\n",
    "print(\"Compare Target Class Label Counts to Classification Report\")\n",
    "print(\"0: Ham, 1: Spam\\n\")\n",
    "print(y_test.value_counts(ascending=True))"
   ]
  },
  {
   "cell_type": "markdown",
   "metadata": {},
   "source": [
    "# Classification Technique #3: Support Vector Machines"
   ]
  },
  {
   "cell_type": "code",
   "execution_count": 89,
   "metadata": {
    "collapsed": false
   },
   "outputs": [
    {
     "name": "stdout",
     "output_type": "stream",
     "text": [
      "0.537899691609\n",
      "alpha: 0.01\n",
      "class_weight: None\n",
      "penalty: None\n",
      "Wall time: 6.79 s\n"
     ]
    }
   ],
   "source": [
    "%%time\n",
    "\n",
    "# Use GridSearchCV to tune model parameters\n",
    "\n",
    "# 0.949720670391\n",
    "# alpha: 0.01\n",
    "# class_weight: 'balanced'\n",
    "# penalty: 'elasticnet'\n",
    "# Wall time: 23 s\n",
    "\n",
    "# parameters for SVM\n",
    "parameters_svm = {'penalty': (None, 'l1', 'l2', 'elasticnet'),  # default is 'l2'\n",
    "                  'alpha': (0.0001, 0.01, 1.0),                 # default 0.0001\n",
    "                  'class_weight': ('balanced', None)}           # default None\n",
    "\n",
    "# instantiate a SVM object\n",
    "svm = SGDClassifier(loss='hinge', random_state=42)\n",
    "\n",
    "# instantiate a GridSearchCV object\n",
    "gs_svm = GridSearchCV(svm, parameters_svm, n_jobs=-1)\n",
    "\n",
    "# fit the GridSearchCV object to the training data\n",
    "gs_svm = gs_svm.fit(X_train_dtm, y_train)\n",
    "\n",
    "print(gs_svm.best_score_)\n",
    "\n",
    "for param_name in sorted(parameters_svm.keys()):\n",
    "    print(\"%s: %r\" % (param_name, gs_svm.best_params_[param_name]))"
   ]
  },
  {
   "cell_type": "code",
   "execution_count": 90,
   "metadata": {
    "collapsed": false
   },
   "outputs": [
    {
     "name": "stdout",
     "output_type": "stream",
     "text": [
      "Support Vector Machines: \n",
      "0.550940947437\n",
      "[[412 358]\n",
      " [334 437]]\n",
      "             precision    recall  f1-score   support\n",
      "\n",
      "Charged Off       0.55      0.54      0.54       770\n",
      " Fully Paid       0.55      0.57      0.56       771\n",
      "\n",
      "avg / total       0.55      0.55      0.55      1541\n",
      "\n"
     ]
    }
   ],
   "source": [
    "print(\"Support Vector Machines: \")\n",
    "\n",
    "# predict classification\n",
    "gs_svm_test_predictions = gs_svm.predict(X_test_dtm)\n",
    "\n",
    "# print accuracy of class predictions\n",
    "print(metrics.accuracy_score(y_test, gs_svm_test_predictions))\n",
    "\n",
    "# print the confusion matrix\n",
    "print(metrics.confusion_matrix(y_test, gs_svm_test_predictions))\n",
    "\n",
    "print(metrics.classification_report(y_test, gs_svm_test_predictions))"
   ]
  },
  {
   "cell_type": "markdown",
   "metadata": {},
   "source": [
    "# Classification Technique #4: Logistic Regression"
   ]
  },
  {
   "cell_type": "code",
   "execution_count": 91,
   "metadata": {
    "collapsed": false
   },
   "outputs": [
    {
     "name": "stdout",
     "output_type": "stream",
     "text": [
      "0.540009738679\n",
      "C: 0.01\n",
      "class_weight: None\n",
      "penalty: 'l2'\n",
      "Wall time: 7.76 s\n"
     ]
    }
   ],
   "source": [
    "%%time\n",
    "\n",
    "# Use GridSearchCV to tune model parameters\n",
    "\n",
    "# 0.95530726257\n",
    "# C: 1.0\n",
    "# class_weight: None\n",
    "# penalty: 'l2'\n",
    "# Wall time: 5.55 s\n",
    "\n",
    "# parameters \n",
    "parameters_lr = {'penalty': ('l1', 'l2'),               # default is 'l2'\n",
    "                  'C': (0.01, 1.0, 10.0, 100.0),            # default 1.0\n",
    "                  'class_weight': ('balanced', None)}                         # default None\n",
    "\n",
    "# instantiate a LogisticRegression object\n",
    "lr = LogisticRegression(random_state=42)\n",
    "\n",
    "# instantiate a GridSearchCV object\n",
    "gs_lr = GridSearchCV(lr, parameters_lr, n_jobs=-1)\n",
    "\n",
    "# fit the GridSearchCV object to the training data\n",
    "gs_lr = gs_lr.fit(X_train_dtm, y_train)\n",
    "\n",
    "print(gs_lr.best_score_)\n",
    "\n",
    "for param_name in sorted(parameters_lr.keys()):\n",
    "    print(\"%s: %r\" % (param_name, gs_lr.best_params_[param_name]))"
   ]
  },
  {
   "cell_type": "code",
   "execution_count": 92,
   "metadata": {
    "collapsed": false
   },
   "outputs": [
    {
     "name": "stdout",
     "output_type": "stream",
     "text": [
      "Logistic Regression: \n",
      "0.565217391304\n",
      "[[432 338]\n",
      " [332 439]]\n",
      "             precision    recall  f1-score   support\n",
      "\n",
      "Charged Off       0.57      0.56      0.56       770\n",
      " Fully Paid       0.56      0.57      0.57       771\n",
      "\n",
      "avg / total       0.57      0.57      0.57      1541\n",
      "\n"
     ]
    }
   ],
   "source": [
    "print(\"Logistic Regression: \")\n",
    "\n",
    "# predict classification\n",
    "gs_lr_test_predictions = gs_lr.predict(X_test_dtm)\n",
    "\n",
    "# print accuracy of class predictions\n",
    "print(metrics.accuracy_score(y_test, gs_lr_test_predictions))\n",
    "\n",
    "# print the confusion matrix\n",
    "print(metrics.confusion_matrix(y_test, gs_lr_test_predictions))\n",
    "\n",
    "print(metrics.classification_report(y_test, gs_lr_test_predictions))"
   ]
  },
  {
   "cell_type": "markdown",
   "metadata": {},
   "source": [
    "# Comparison of Models (w/o Pre-Processing, with GridSearch)\n",
    "Option 1: Vectorize Text into Document-Term-Matrix (no pre-processing)\n",
    "\n",
    "(Precision, Recall, F1-Score for the \"Charged Off\" Class Only)\n",
    "\n",
    "| Model                    | Accuracy   | Precision    | Recall    | F1-Score    |          \n",
    "|--------------------------|------------|--------------|-----------|-------------|          \n",
    "| Random Forest            | 0.5665     | 0.56         | 0.59      | 0.58        |          \n",
    "| Multinomial Naive Bayes  | 0.5840     | 0.59         | 0.56      | 0.57        |          \n",
    "| Support Vector Machines  | 0.5827     | 0.58         | 0.60      | 0.59        |          \n",
    "| Logistic Regression      | 0.5840     | 0.59         | 0.57      | 0.58        |          \n"
   ]
  },
  {
   "cell_type": "markdown",
   "metadata": {},
   "source": [
    "# Comparison of Models (with Pre-Processing, with GridSearch)\n",
    "Option 2a: Vectorize Text into Document-Term-Matrix (with pre-processing)\n",
    "\n",
    "(Precision, Recall, F1-Score for the \"Charged Off\" Class Only)\n",
    "\n",
    "| Model                    | Accuracy   | Precision    | Recall    | F1-Score    |          \n",
    "|--------------------------|------------|--------------|-----------|-------------|          \n",
    "| Random Forest            | 0.5775     | 0.57         | 0.60      | 0.59        |          \n",
    "| Multinomial Naive Bayes  | 0.5749     | 0.57         | 0.59      | 0.57        |          \n",
    "| Support Vector Machines  | 0.5483     | 0.54         | 0.59      | 0.57        |          \n",
    "| Logistic Regression      | 0.5737     | 0.57         | 0.59      | 0.58        |          \n"
   ]
  },
  {
   "cell_type": "markdown",
   "metadata": {},
   "source": [
    "Option 2b: In addition to CountVectorizer, use TfidfTransformer(use_idf=True)\n",
    "\n",
    "(Precision, Recall, F1-Score for the \"Charged Off\" Class Only)\n",
    "\n",
    "| Model                    | Accuracy   | Precision    | Recall    | F1-Score    |          \n",
    "|--------------------------|------------|--------------|-----------|-------------|          \n",
    "| Random Forest            | 0.5042     | 0.50         | 0.49      | 0.50        |          \n",
    "| Multinomial Naive Bayes  | 0.5749     | 0.57         | 0.59      | 0.57        |          \n",
    "| Support Vector Machines  | 0.5483     | 0.54         | 0.59      | 0.57        |          \n",
    "| Logistic Regression      | 0.5737     | 0.57         | 0.59      | 0.58        |   "
   ]
  },
  {
   "cell_type": "markdown",
   "metadata": {},
   "source": [
    "Option 3: Vectorize Text Using Hashing Vectorizer\n",
    "\n",
    "(Precision, Recall, F1-Score for the \"Charged Off\" Class Only)\n",
    "\n",
    "| Model                    | Accuracy   | Precision    | Recall    | F1-Score    |          \n",
    "|--------------------------|------------|--------------|-----------|-------------|          \n",
    "| Random Forest            | 0.5432     | 0.54         | 0.56      | 0.55        |          \n",
    "| Multinomial Naive Bayes  | 0.5509     | 0.55         | 0.51      | 0.53        |          \n",
    "| Support Vector Machines  | 0.5509     | 0.55         | 0.54      | 0.54        |          \n",
    "| Logistic Regression      | 0.5652     | 0.57         | 0.56      | 0.56        |   "
   ]
  },
  {
   "cell_type": "code",
   "execution_count": null,
   "metadata": {
    "collapsed": true
   },
   "outputs": [],
   "source": []
  }
 ],
 "metadata": {
  "kernelspec": {
   "display_name": "Python 3",
   "language": "python",
   "name": "python3"
  },
  "language_info": {
   "codemirror_mode": {
    "name": "ipython",
    "version": 3
   },
   "file_extension": ".py",
   "mimetype": "text/x-python",
   "name": "python",
   "nbconvert_exporter": "python",
   "pygments_lexer": "ipython3",
   "version": "3.6.0"
  }
 },
 "nbformat": 4,
 "nbformat_minor": 2
}
